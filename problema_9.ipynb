{
  "nbformat": 4,
  "nbformat_minor": 0,
  "metadata": {
    "colab": {
      "provenance": []
    },
    "kernelspec": {
      "name": "python3",
      "display_name": "Python 3"
    },
    "language_info": {
      "name": "python"
    }
  },
  "cells": [
    {
      "cell_type": "markdown",
      "source": [
        "# Problema 9"
      ],
      "metadata": {
        "id": "C3my2JneDRIS"
      }
    },
    {
      "cell_type": "code",
      "execution_count": 1,
      "metadata": {
        "colab": {
          "base_uri": "https://localhost:8080/"
        },
        "id": "sMIq18qzDQCn",
        "outputId": "91811256-3ad3-4ea0-cd67-ce5fd9025d57"
      },
      "outputs": [
        {
          "output_type": "stream",
          "name": "stdout",
          "text": [
            "False\n",
            "False\n",
            "True\n",
            "True\n"
          ]
        }
      ],
      "source": [
        "# Importar biblioteca\n",
        "from collections import Counter\n",
        "\n",
        "#  Função\n",
        "def verificar_prescricao(prescricao, estoque):\n",
        "    # Contar a frequência de cada medicamento na prescrição e no estoque\n",
        "    prescricao_contador = Counter(prescricao)\n",
        "    estoque_contador = Counter(estoque)\n",
        "\n",
        "    # Verificar se todos os medicamentos da prescrição estão disponíveis no estoque\n",
        "    for medicamento, quantidade in prescricao_contador.items():\n",
        "        if estoque_contador[medicamento] < quantidade:\n",
        "            return False\n",
        "    return True\n",
        "\n",
        "# Uso da função:\n",
        "print(verificar_prescricao(\"a\", \"b\"))\n",
        "print(verificar_prescricao(\"aa\", \"b\"))\n",
        "print(verificar_prescricao(\"aa\", \"aab\"))\n",
        "print(verificar_prescricao(\"aba\", \"cbaa\"))\n"
      ]
    }
  ]
}