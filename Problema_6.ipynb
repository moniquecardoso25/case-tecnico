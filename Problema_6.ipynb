{
  "cells": [
    {
      "cell_type": "markdown",
      "metadata": {},
      "source": [
        "# Problema 6"
      ]
    },
    {
      "cell_type": "code",
      "execution_count": 1,
      "metadata": {},
      "outputs": [
        {
          "name": "stdout",
          "output_type": "stream",
          "text": [
            "Coordinates -22.75°N -43.0°E\n",
            "Elevation 12.0 m asl\n",
            "Timezone b'America/Sao_Paulo' b'-03'\n",
            "Timezone difference to GMT+0 -10800 s\n"
          ]
        },
        {
          "data": {
            "text/html": [
              "<div>\n",
              "<style scoped>\n",
              "    .dataframe tbody tr th:only-of-type {\n",
              "        vertical-align: middle;\n",
              "    }\n",
              "\n",
              "    .dataframe tbody tr th {\n",
              "        vertical-align: top;\n",
              "    }\n",
              "\n",
              "    .dataframe thead th {\n",
              "        text-align: right;\n",
              "    }\n",
              "</style>\n",
              "<table border=\"1\" class=\"dataframe\">\n",
              "  <thead>\n",
              "    <tr style=\"text-align: right;\">\n",
              "      <th></th>\n",
              "      <th>date</th>\n",
              "      <th>pressure_msl</th>\n",
              "    </tr>\n",
              "  </thead>\n",
              "  <tbody>\n",
              "    <tr>\n",
              "      <th>0</th>\n",
              "      <td>2024-10-21 03:00:00+00:00</td>\n",
              "      <td>1016.799988</td>\n",
              "    </tr>\n",
              "    <tr>\n",
              "      <th>1</th>\n",
              "      <td>2024-10-21 04:00:00+00:00</td>\n",
              "      <td>1016.099976</td>\n",
              "    </tr>\n",
              "    <tr>\n",
              "      <th>2</th>\n",
              "      <td>2024-10-21 05:00:00+00:00</td>\n",
              "      <td>1015.799988</td>\n",
              "    </tr>\n",
              "    <tr>\n",
              "      <th>3</th>\n",
              "      <td>2024-10-21 06:00:00+00:00</td>\n",
              "      <td>1016.000000</td>\n",
              "    </tr>\n",
              "    <tr>\n",
              "      <th>4</th>\n",
              "      <td>2024-10-21 07:00:00+00:00</td>\n",
              "      <td>1016.099976</td>\n",
              "    </tr>\n",
              "  </tbody>\n",
              "</table>\n",
              "</div>"
            ],
            "text/plain": [
              "                       date  pressure_msl\n",
              "0 2024-10-21 03:00:00+00:00   1016.799988\n",
              "1 2024-10-21 04:00:00+00:00   1016.099976\n",
              "2 2024-10-21 05:00:00+00:00   1015.799988\n",
              "3 2024-10-21 06:00:00+00:00   1016.000000\n",
              "4 2024-10-21 07:00:00+00:00   1016.099976"
            ]
          },
          "execution_count": 1,
          "metadata": {},
          "output_type": "execute_result"
        }
      ],
      "source": [
        "# Importando bibliotecas\n",
        "import openmeteo_requests\n",
        "\n",
        "import requests_cache\n",
        "import pandas as pd\n",
        "from retry_requests import retry\n",
        "\n",
        "# Configura o cliente Open-Meteo API com cache e tenta novamente em caso de erro\n",
        "cache_session = requests_cache.CachedSession('.cache', expire_after = 3600)\n",
        "retry_session = retry(cache_session, retries = 5, backoff_factor = 0.2)\n",
        "openmeteo = openmeteo_requests.Client(session = retry_session)\n",
        "\n",
        "# Certifica de que todas as variáveis ​​meteorológicas necessárias estejam listadas \n",
        "# A ordem das variáveis ​​em horária ou diária é importante para atribuí-las corretamente abaixo\n",
        "url = \"https://api.open-meteo.com/v1/forecast\"\n",
        "params = {\n",
        "\t\"latitude\": -22.9064,\n",
        "\t\"longitude\": -43.1822,\n",
        "\t\"hourly\": \"pressure_msl\",\n",
        "\t\"timezone\": \"America/Sao_Paulo\"\n",
        "}\n",
        "responses = openmeteo.weather_api(url, params=params)\n",
        "\n",
        "# Processa o primeiro local. Adiciona um for-loop para vários locais ou modelos climáticos\n",
        "response = responses[0]\n",
        "print(f\"Coordinates {response.Latitude()}°N {response.Longitude()}°E\")\n",
        "print(f\"Elevation {response.Elevation()} m asl\")\n",
        "print(f\"Timezone {response.Timezone()} {response.TimezoneAbbreviation()}\")\n",
        "print(f\"Timezone difference to GMT+0 {response.UtcOffsetSeconds()} s\")\n",
        "\n",
        "# Processa os dados. A ordem das variáveis ​​precisa ser a mesma solicitada.\n",
        "hourly = response.Hourly()\n",
        "hourly_pressure_msl = hourly.Variables(0).ValuesAsNumpy()\n",
        "\n",
        "hourly_data = {\"date\": pd.date_range(\n",
        "\tstart = pd.to_datetime(hourly.Time(), unit = \"s\", utc = True),\n",
        "\tend = pd.to_datetime(hourly.TimeEnd(), unit = \"s\", utc = True),\n",
        "\tfreq = pd.Timedelta(seconds = hourly.Interval()),\n",
        "\tinclusive = \"left\"\n",
        ")}\n",
        "hourly_data[\"pressure_msl\"] = hourly_pressure_msl\n",
        "\n",
        "# Cria um DataFrame\n",
        "previsao_pressao_atm = pd.DataFrame(data = hourly_data)\n",
        "previsao_pressao_atm.head()"
      ]
    },
    {
      "cell_type": "code",
      "execution_count": 2,
      "metadata": {},
      "outputs": [],
      "source": [
        "# Altera o nome das colunas\n",
        "previsao_pressao_atm.columns = ['momento', 'valor']"
      ]
    },
    {
      "cell_type": "code",
      "execution_count": 3,
      "metadata": {},
      "outputs": [],
      "source": [
        "# Conecta com o banco de dados\n",
        "import mysql.connector\n",
        "\n",
        "conexao = mysql.connector.connect(host='localhost',user='root',password='9090#',database='pressao_atm' )\n",
        "cursor = conexao.cursor()\n"
      ]
    },
    {
      "cell_type": "code",
      "execution_count": 4,
      "metadata": {},
      "outputs": [],
      "source": [
        "# Cria a tabela no banco de dados\n",
        "query_create_table = \"\"\"\n",
        "CREATE TABLE IF NOT EXISTS pressao_atm.previsao_pressao_atm (\n",
        "    id INT NOT NULL AUTO_INCREMENT,\n",
        "    momento TIMESTAMP,\n",
        "    valor FLOAT,\n",
        "    PRIMARY KEY(id)\n",
        ");\n",
        "\"\"\"\n",
        "cursor.execute(query_create_table)\n",
        "\n"
      ]
    },
    {
      "cell_type": "code",
      "execution_count": 5,
      "metadata": {},
      "outputs": [],
      "source": [
        "# Insere os dados do DataFrame na tabela do MySQL\n",
        "for _, row in previsao_pressao_atm.iterrows():\n",
        "    momento = row['momento']\n",
        "    valor = row['valor']\n",
        "    \n",
        "    query_insert = \"\"\"\n",
        "    INSERT INTO pressao_atm.previsao_pressao_atm (momento, valor)\n",
        "    VALUES (%s, %s);\n",
        "    \"\"\"\n",
        "    \n",
        "    cursor.execute(query_insert, (momento, valor))\n",
        "\n",
        "# Confirma a inserção \n",
        "conexao.commit()\n",
        "cursor.close()\n",
        "conexao.close()\n"
      ]
    }
  ],
  "metadata": {
    "colab": {
      "provenance": []
    },
    "kernelspec": {
      "display_name": "Python 3",
      "name": "python3"
    },
    "language_info": {
      "codemirror_mode": {
        "name": "ipython",
        "version": 3
      },
      "file_extension": ".py",
      "mimetype": "text/x-python",
      "name": "python",
      "nbconvert_exporter": "python",
      "pygments_lexer": "ipython3",
      "version": "3.13.0"
    }
  },
  "nbformat": 4,
  "nbformat_minor": 0
}
